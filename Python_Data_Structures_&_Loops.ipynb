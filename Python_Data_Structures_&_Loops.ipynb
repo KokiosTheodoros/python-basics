{
  "nbformat": 4,
  "nbformat_minor": 0,
  "metadata": {
    "colab": {
      "provenance": [],
      "authorship_tag": "ABX9TyPDPmOe8S1sdhADlroAGAJ1",
      "include_colab_link": true
    },
    "kernelspec": {
      "name": "python3",
      "display_name": "Python 3"
    },
    "language_info": {
      "name": "python"
    }
  },
  "cells": [
    {
      "cell_type": "markdown",
      "metadata": {
        "id": "view-in-github",
        "colab_type": "text"
      },
      "source": [
        "<a href=\"https://colab.research.google.com/github/KokiosTheodoros/python-basics/blob/main/Python_Data_Structures_%26_Loops.ipynb\" target=\"_parent\"><img src=\"https://colab.research.google.com/assets/colab-badge.svg\" alt=\"Open In Colab\"/></a>"
      ]
    },
    {
      "cell_type": "code",
      "execution_count": 9,
      "metadata": {
        "colab": {
          "base_uri": "https://localhost:8080/"
        },
        "id": "wqEANL2Zp8B9",
        "outputId": "5cd7f423-8b73-4fd6-9d8b-2b6413386eb4"
      },
      "outputs": [
        {
          "output_type": "stream",
          "name": "stdout",
          "text": [
            "Πρώτο φρούτο: apple\n",
            "Μήκος λίστας: 3\n",
            "Μετά την προσθήκη: ['apple', 'banana', 'cherry', 'orange']\n",
            "Σημείο: (3, 4)\n",
            "Όνομα: Maria\n",
            "Ηλικία: 21\n",
            "Νέος βαθμός: 9.0\n",
            "Hello 0\n",
            "Hello 1\n",
            "Hello 2\n",
            "Hello 3\n",
            "Hello 4\n",
            "n = 0\n",
            "n = 1\n",
            "n = 2\n",
            "Student Grades Manager\n",
            "Πόσους μαθητές θες να καταχωρήσεις; 2\n",
            "\n",
            "Όνομα μαθητή 1: Μαρία\n",
            "Βαθμός 1: 9\n",
            "Βαθμός 2: 8\n",
            "Βαθμός 3: 7\n",
            "\n",
            "Όνομα μαθητή 2: Νίκος\n",
            "Βαθμός 1: 5\n",
            "Βαθμός 2: 6\n",
            "Βαθμός 3: 5\n",
            "\n",
            "--- Αναφορά Μαθητών ---\n",
            "Μαρία: [9.0, 8.0, 7.0] | Μέσος Όρος = 8.00\n",
            "Νίκος: [5.0, 6.0, 5.0] | Μέσος Όρος = 5.33\n",
            "\n",
            " Καλύτερος μαθητής: Μαρία με μέσο όρο 8.00\n"
          ]
        }
      ],
      "source": [
        "\n",
        "# Day 2 – Python Data Structures & Loops\n",
        "\n",
        "# Στόχος:\n",
        "# - Λίστες, Dictionaries, Tuples\n",
        "# - For & While loops\n",
        "# - Mini Project: Student Grades Manager\n",
        "\n",
        "#Lists\n",
        "\n",
        "fruits = [\"apple\", \"banana\", \"cherry\"]\n",
        "\n",
        "print(\"Πρώτο φρούτο:\", fruits[0])\n",
        "print(\"Μήκος λίστας:\", len(fruits))\n",
        "\n",
        "fruits.append(\"orange\")\n",
        "print(\"Μετά την προσθήκη:\", fruits)\n",
        "\n",
        "#Tuples\n",
        "\n",
        "point = (3, 4)\n",
        "print(\"Σημείο:\", point)\n",
        "\n",
        "#Dictionaries\n",
        "\n",
        "student = {\"name\": \"Maria\", \"age\": 21, \"grade\": 8.5}\n",
        "\n",
        "print(\"Όνομα:\", student[\"name\"])\n",
        "print(\"Ηλικία:\", student[\"age\"])\n",
        "\n",
        "student[\"grade\"] = 9.0  # ενημέρωση\n",
        "print(\"Νέος βαθμός:\", student[\"grade\"])\n",
        "\n",
        "#Loops\n",
        "\n",
        "# For loop\n",
        "for i in range(5):\n",
        "    print(\"Hello\", i)\n",
        "\n",
        "# While loop\n",
        "n = 0\n",
        "while n < 3:\n",
        "    print(\"n =\", n)\n",
        "    n += 1\n",
        "\n",
        "#Project – Student Grades Manager\n",
        "\n",
        "print(\"Student Grades Manager\")\n",
        "\n",
        "students = {}\n",
        "\n",
        "n = int(input(\"Πόσους μαθητές θες να καταχωρήσεις; \"))\n",
        "\n",
        "for i in range(n):\n",
        "    name = input(f\"\\nΌνομα μαθητή {i+1}: \")\n",
        "    grades = []\n",
        "    for j in range(3):\n",
        "        grade = float(input(f\"Βαθμός {j+1}: \"))\n",
        "        grades.append(grade)\n",
        "    students[name] = grades\n",
        "\n",
        "print(\"\\n--- Αναφορά Μαθητών ---\")\n",
        "best_student = None\n",
        "best_avg = 0\n",
        "\n",
        "for name, grades in students.items():\n",
        "    avg = sum(grades) / len(grades)\n",
        "    print(f\"{name}: {grades} | Μέσος Όρος = {avg:.2f}\")\n",
        "    if avg > best_avg:\n",
        "        best_avg = avg\n",
        "        best_student = name\n",
        "\n",
        "print(f\"\\n Καλύτερος μαθητής: {best_student} με μέσο όρο {best_avg:.2f}\")\n",
        "\n",
        "\n"
      ]
    }
  ]
}